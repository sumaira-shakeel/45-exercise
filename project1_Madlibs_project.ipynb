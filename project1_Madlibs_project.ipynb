{
  "nbformat": 4,
  "nbformat_minor": 0,
  "metadata": {
    "colab": {
      "provenance": [],
      "authorship_tag": "ABX9TyM2juHB4nNLBoR4pQ5cfXeD",
      "include_colab_link": true
    },
    "kernelspec": {
      "name": "python3",
      "display_name": "Python 3"
    },
    "language_info": {
      "name": "python"
    }
  },
  "cells": [
    {
      "cell_type": "markdown",
      "metadata": {
        "id": "view-in-github",
        "colab_type": "text"
      },
      "source": [
        "<a href=\"https://colab.research.google.com/github/sumaira-shakeel/45-exercise/blob/main/project1_Madlibs_project.ipynb\" target=\"_parent\"><img src=\"https://colab.research.google.com/assets/colab-badge.svg\" alt=\"Open In Colab\"/></a>"
      ]
    },
    {
      "cell_type": "code",
      "source": [
        "# simple calculator\n",
        "def Calculator():\n",
        "  num1=int(input(\"Enter first number: \"))\n",
        "  num2=int(input(\"Enter second number: \"))\n",
        "  operator=input(\"Enter operator: \")\n",
        "  if operator==\"+\":\n",
        "    print(num1+num2)\n",
        "  elif operator==\"-\":\n",
        "    print(num1-num2)\n",
        "  elif operator==\"*\":\n",
        "    print(num1*num2)\n",
        "  elif operator==\"/\":\n",
        "    print(num1/num2)\n",
        "  else:\n",
        "    print(\"invalid operation\")\n",
        "\n",
        "Calculator()\n"
      ],
      "metadata": {
        "id": "49uFJ4F2F8Fj",
        "colab": {
          "base_uri": "https://localhost:8080/"
        },
        "outputId": "8c327adb-6dfb-4beb-fe64-8c1d922f131e"
      },
      "execution_count": 20,
      "outputs": [
        {
          "output_type": "stream",
          "name": "stdout",
          "text": [
            "Enter first number: 10\n",
            "Enter second number: 5\n",
            "Enter operator: /\n",
            "2.0\n"
          ]
        }
      ]
    },
    {
      "cell_type": "code",
      "source": [
        "for i in range(1,6):\n",
        "  print(f\"Kharak singh ke Khrakne se Kharakti hen khidkiyaan\")\n",
        ""
      ],
      "metadata": {
        "colab": {
          "base_uri": "https://localhost:8080/"
        },
        "id": "R67Bq5ZPJEeY",
        "outputId": "9679741a-8dde-4a4b-dcf1-60787c6f3220"
      },
      "execution_count": 23,
      "outputs": [
        {
          "output_type": "stream",
          "name": "stdout",
          "text": [
            "Kharak singh ke Khrakne se Kharakti hen khidkiyaan\n",
            "Kharak singh ke Khrakne se Kharakti hen khidkiyaan\n",
            "Kharak singh ke Khrakne se Kharakti hen khidkiyaan\n",
            "Kharak singh ke Khrakne se Kharakti hen khidkiyaan\n",
            "Kharak singh ke Khrakne se Kharakti hen khidkiyaan\n"
          ]
        }
      ]
    }
  ]
}